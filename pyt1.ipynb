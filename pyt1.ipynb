{
 "cells": [
  {
   "cell_type": "code",
   "execution_count": 1,
   "metadata": {},
   "outputs": [
    {
     "data": {
      "text/plain": [
       "tensor([[[0.4955, 0.3885],\n",
       "         [0.9609, 0.2982]],\n",
       "\n",
       "        [[0.7603, 0.4584],\n",
       "         [0.4031, 0.4334]]])"
      ]
     },
     "execution_count": 1,
     "metadata": {},
     "output_type": "execute_result"
    }
   ],
   "source": [
    "# Tensor Basics\n",
    "\n",
    "import torch\n",
    "\n",
    "x = torch.rand(2,2,2)\n",
    "x"
   ]
  },
  {
   "cell_type": "code",
   "execution_count": 2,
   "metadata": {},
   "outputs": [
    {
     "data": {
      "text/plain": [
       "tensor([[0, 0, 0],\n",
       "        [0, 0, 0],\n",
       "        [0, 0, 0]], dtype=torch.int32)"
      ]
     },
     "execution_count": 2,
     "metadata": {},
     "output_type": "execute_result"
    }
   ],
   "source": [
    "#zeros\n",
    "xx = torch.zeros(3,3, dtype=torch.int)\n",
    "xx\n",
    "\n",
    "#ones = torch.ones"
   ]
  },
  {
   "cell_type": "code",
   "execution_count": 3,
   "metadata": {},
   "outputs": [
    {
     "data": {
      "text/plain": [
       "torch.int32"
      ]
     },
     "execution_count": 3,
     "metadata": {},
     "output_type": "execute_result"
    }
   ],
   "source": [
    "xx.dtype"
   ]
  },
  {
   "cell_type": "code",
   "execution_count": 4,
   "metadata": {},
   "outputs": [
    {
     "data": {
      "text/plain": [
       "torch.Size([3, 3])"
      ]
     },
     "execution_count": 4,
     "metadata": {},
     "output_type": "execute_result"
    }
   ],
   "source": [
    "#size\n",
    "xx.size()"
   ]
  },
  {
   "cell_type": "code",
   "execution_count": 5,
   "metadata": {},
   "outputs": [
    {
     "data": {
      "text/plain": [
       "tensor([4.5000, 0.9000])"
      ]
     },
     "execution_count": 5,
     "metadata": {},
     "output_type": "execute_result"
    }
   ],
   "source": [
    "# using list in tensors\n",
    "x = torch.tensor([4.5, 0.9])\n",
    "x"
   ]
  },
  {
   "cell_type": "code",
   "execution_count": 6,
   "metadata": {},
   "outputs": [
    {
     "name": "stdout",
     "output_type": "stream",
     "text": [
      "tensor([[0.6584, 0.8033],\n",
      "        [0.7095, 0.0634]])\n",
      "tensor([[0.5352, 0.9000],\n",
      "        [0.4289, 0.0633]])\n",
      "tensor([[1.1936, 1.7033],\n",
      "        [1.1385, 0.1267]])\n",
      "tensor([[1.1936, 1.7033],\n",
      "        [1.1385, 0.1267]])\n"
     ]
    }
   ],
   "source": [
    "x = torch.rand(2,2)\n",
    "y = torch.rand(2,2)\n",
    "z = x + y\n",
    "c = torch.add(x,y)\n",
    "print(x)\n",
    "print(y)\n",
    "print(z)\n",
    "print(c)\n"
   ]
  },
  {
   "cell_type": "code",
   "execution_count": 7,
   "metadata": {},
   "outputs": [
    {
     "data": {
      "text/plain": [
       "tensor([[ 1.2312e-01, -9.6701e-02],\n",
       "        [ 2.8060e-01,  1.1653e-04]])"
      ]
     },
     "execution_count": 7,
     "metadata": {},
     "output_type": "execute_result"
    }
   ],
   "source": [
    "# sub\n",
    "c = torch.sub(x,y)\n",
    "c"
   ]
  },
  {
   "cell_type": "code",
   "execution_count": 8,
   "metadata": {},
   "outputs": [
    {
     "data": {
      "text/plain": [
       "tensor([[0.3524, 0.7230],\n",
       "        [0.3043, 0.0040]])"
      ]
     },
     "execution_count": 8,
     "metadata": {},
     "output_type": "execute_result"
    }
   ],
   "source": [
    "# mul\n",
    "d = torch.mul(x,y)\n",
    "d"
   ]
  },
  {
   "cell_type": "code",
   "execution_count": 9,
   "metadata": {},
   "outputs": [
    {
     "data": {
      "text/plain": [
       "tensor([[0.3524, 0.7230],\n",
       "        [0.3043, 0.0040]])"
      ]
     },
     "execution_count": 9,
     "metadata": {},
     "output_type": "execute_result"
    }
   ],
   "source": [
    "y.mul_(x)"
   ]
  },
  {
   "cell_type": "code",
   "execution_count": 10,
   "metadata": {},
   "outputs": [
    {
     "data": {
      "text/plain": [
       "tensor([[ 1.8683,  1.1111],\n",
       "        [ 2.3314, 15.7961]])"
      ]
     },
     "execution_count": 10,
     "metadata": {},
     "output_type": "execute_result"
    }
   ],
   "source": [
    "# div\n",
    "f = torch.div(x,y)\n",
    "f"
   ]
  },
  {
   "cell_type": "code",
   "execution_count": 11,
   "metadata": {},
   "outputs": [
    {
     "name": "stdout",
     "output_type": "stream",
     "text": [
      "tensor([[0.6173, 0.6756, 0.2815],\n",
      "        [0.1124, 0.6523, 0.3367],\n",
      "        [0.2045, 0.8280, 0.7030],\n",
      "        [0.4342, 0.4095, 0.4542],\n",
      "        [0.0798, 0.1416, 0.1696]])\n",
      "tensor([0.6173, 0.1124, 0.2045, 0.4342, 0.0798])\n"
     ]
    }
   ],
   "source": [
    "# slicing\n",
    "x = torch.rand(5,3)\n",
    "print(x)\n",
    "print(x[:,0])"
   ]
  },
  {
   "cell_type": "code",
   "execution_count": 12,
   "metadata": {},
   "outputs": [
    {
     "name": "stdout",
     "output_type": "stream",
     "text": [
      "tensor([[0.8670, 0.0463, 0.7613, 0.3825],\n",
      "        [0.7688, 0.3683, 0.1480, 0.9635],\n",
      "        [0.2621, 0.9134, 0.4856, 0.1630],\n",
      "        [0.9640, 0.0265, 0.9761, 0.1613]])\n",
      "tensor([0.8670, 0.0463, 0.7613, 0.3825, 0.7688, 0.3683, 0.1480, 0.9635, 0.2621,\n",
      "        0.9134, 0.4856, 0.1630, 0.9640, 0.0265, 0.9761, 0.1613])\n"
     ]
    }
   ],
   "source": [
    "# reshaping\n",
    "x = torch.rand(4,4)\n",
    "print(x)\n",
    "y = x.view(16)\n",
    "print(y)"
   ]
  },
  {
   "cell_type": "code",
   "execution_count": 13,
   "metadata": {},
   "outputs": [
    {
     "data": {
      "text/plain": [
       "tensor([1., 1., 1., 1., 1.])"
      ]
     },
     "execution_count": 13,
     "metadata": {},
     "output_type": "execute_result"
    }
   ],
   "source": [
    "# convert from numpy to tensor and vice versa\n",
    "import numpy as np\n",
    "\n",
    "a = torch.ones(5)\n",
    "a"
   ]
  },
  {
   "cell_type": "code",
   "execution_count": 14,
   "metadata": {},
   "outputs": [
    {
     "data": {
      "text/plain": [
       "array([1., 1., 1., 1., 1.], dtype=float32)"
      ]
     },
     "execution_count": 14,
     "metadata": {},
     "output_type": "execute_result"
    }
   ],
   "source": [
    "b = a.numpy()\n",
    "b"
   ]
  },
  {
   "cell_type": "code",
   "execution_count": 15,
   "metadata": {},
   "outputs": [
    {
     "data": {
      "text/plain": [
       "array([1., 1., 1., 1., 1.])"
      ]
     },
     "execution_count": 15,
     "metadata": {},
     "output_type": "execute_result"
    }
   ],
   "source": [
    "a =  np.ones(5)\n",
    "a"
   ]
  },
  {
   "cell_type": "code",
   "execution_count": 16,
   "metadata": {},
   "outputs": [
    {
     "data": {
      "text/plain": [
       "tensor([1., 1., 1., 1., 1.], dtype=torch.float64)"
      ]
     },
     "execution_count": 16,
     "metadata": {},
     "output_type": "execute_result"
    }
   ],
   "source": [
    "b = torch.from_numpy(a)\n",
    "b"
   ]
  },
  {
   "cell_type": "markdown",
   "metadata": {},
   "source": [
    "# Gradient Calculation with Autograd"
   ]
  },
  {
   "cell_type": "code",
   "execution_count": 17,
   "metadata": {},
   "outputs": [
    {
     "data": {
      "text/plain": [
       "tensor([ 0.1684,  0.8309, -0.3047], requires_grad=True)"
      ]
     },
     "execution_count": 17,
     "metadata": {},
     "output_type": "execute_result"
    }
   ],
   "source": [
    "x = torch.randn(3, requires_grad=True) #calculate the gradient with respect to X\n",
    "x"
   ]
  },
  {
   "cell_type": "code",
   "execution_count": 18,
   "metadata": {},
   "outputs": [
    {
     "data": {
      "text/plain": [
       "tensor([2.1684, 2.8309, 1.6953], grad_fn=<AddBackward0>)"
      ]
     },
     "execution_count": 18,
     "metadata": {},
     "output_type": "execute_result"
    }
   ],
   "source": [
    "y = x + 2\n",
    "y"
   ]
  },
  {
   "cell_type": "code",
   "execution_count": 23,
   "metadata": {},
   "outputs": [
    {
     "data": {
      "text/plain": [
       "tensor([ 9.4037, 16.0284,  5.7484], grad_fn=<MulBackward0>)"
      ]
     },
     "execution_count": 23,
     "metadata": {},
     "output_type": "execute_result"
    }
   ],
   "source": [
    "z = y*y*2\n",
    "z"
   ]
  },
  {
   "cell_type": "code",
   "execution_count": 24,
   "metadata": {},
   "outputs": [
    {
     "data": {
      "text/plain": [
       "tensor([ 9.4037, 16.0284,  5.7484], grad_fn=<MulBackward0>)"
      ]
     },
     "execution_count": 24,
     "metadata": {},
     "output_type": "execute_result"
    }
   ],
   "source": [
    "#z = z.mean()\n",
    "z"
   ]
  },
  {
   "cell_type": "code",
   "execution_count": 26,
   "metadata": {},
   "outputs": [],
   "source": [
    "v = torch.tensor([0.1, 1.0, 0.001], dtype=torch.float32)\n",
    "z.backward(v) #dz/dx"
   ]
  },
  {
   "cell_type": "code",
   "execution_count": 27,
   "metadata": {},
   "outputs": [
    {
     "data": {
      "text/plain": [
       "tensor([ 3.7585, 15.0983,  2.2672])"
      ]
     },
     "execution_count": 27,
     "metadata": {},
     "output_type": "execute_result"
    }
   ],
   "source": [
    "x.grad"
   ]
  },
  {
   "cell_type": "code",
   "execution_count": null,
   "metadata": {},
   "outputs": [],
   "source": [
    "# preventing pytorch from tracking the gradient functions history\n",
    "#x.requires_grad_(False)\n",
    "#x.detach()\n",
    "#with torch.no_grad():"
   ]
  },
  {
   "cell_type": "code",
   "execution_count": null,
   "metadata": {},
   "outputs": [
    {
     "data": {
      "text/plain": [
       "tensor([ 0.1696,  0.4677, -0.7878])"
      ]
     },
     "execution_count": 37,
     "metadata": {},
     "output_type": "execute_result"
    }
   ],
   "source": [
    "x.requires_grad_(False)\n",
    "x"
   ]
  },
  {
   "cell_type": "code",
   "execution_count": null,
   "metadata": {},
   "outputs": [
    {
     "data": {
      "text/plain": [
       "tensor([ 0.1696,  0.4677, -0.7878])"
      ]
     },
     "execution_count": 39,
     "metadata": {},
     "output_type": "execute_result"
    }
   ],
   "source": [
    "y = x.detach()\n",
    "y"
   ]
  },
  {
   "cell_type": "code",
   "execution_count": null,
   "metadata": {},
   "outputs": [
    {
     "name": "stdout",
     "output_type": "stream",
     "text": [
      "tensor([2.1696, 2.4677, 1.2122])\n"
     ]
    }
   ],
   "source": [
    "with torch.no_grad():\n",
    "    y = x + 2\n",
    "    print(y)"
   ]
  },
  {
   "cell_type": "code",
   "execution_count": 28,
   "metadata": {},
   "outputs": [
    {
     "data": {
      "text/plain": [
       "tensor([2.1684, 2.8309, 1.6953], grad_fn=<AddBackward0>)"
      ]
     },
     "execution_count": 28,
     "metadata": {},
     "output_type": "execute_result"
    }
   ],
   "source": [
    "y"
   ]
  },
  {
   "cell_type": "code",
   "execution_count": null,
   "metadata": {},
   "outputs": [
    {
     "name": "stdout",
     "output_type": "stream",
     "text": [
      "tensor([3., 3., 3., 3.])\n",
      "tensor([3., 3., 3., 3.])\n"
     ]
    }
   ],
   "source": [
    "weights = torch.ones(4, requires_grad=True)\n",
    "\n",
    "for epoch in range(2):\n",
    "    model_output = (weights * 3).sum()\n",
    "\n",
    "    model_output.backward()\n",
    "\n",
    "    print(weights.grad)\n",
    "\n",
    "    weights.grad.zero_()"
   ]
  },
  {
   "cell_type": "markdown",
   "metadata": {},
   "source": [
    "# Backpropagation"
   ]
  },
  {
   "cell_type": "markdown",
   "metadata": {},
   "source": [
    "- Forward pass: Compute loss\n",
    "- Compute local gradients\n",
    "- Backward pass: Compute dLoss / dWeights using the chain rule\n",
    "\n",
    "yhat = w * x\n",
    "\n",
    "Loss = (yhat - y)^2 = (wx -y)^2\n",
    "\n",
    "Forward pass: x = A, y=2, w=A"
   ]
  },
  {
   "cell_type": "code",
   "execution_count": 33,
   "metadata": {},
   "outputs": [
    {
     "data": {
      "text/plain": [
       "tensor(1., grad_fn=<PowBackward0>)"
      ]
     },
     "execution_count": 33,
     "metadata": {},
     "output_type": "execute_result"
    }
   ],
   "source": [
    "#code implementation\n",
    "x = torch.tensor(1.0)\n",
    "y = torch.tensor(2.0)\n",
    "\n",
    "w = torch.tensor(1.0, requires_grad=True)\n",
    "\n",
    "#forward pass and the loss\n",
    "y_hat = w * x\n",
    "loss = (y_hat - y)**2\n"
   ]
  },
  {
   "cell_type": "code",
   "execution_count": 34,
   "metadata": {},
   "outputs": [
    {
     "data": {
      "text/plain": [
       "tensor(-2.)"
      ]
     },
     "execution_count": 34,
     "metadata": {},
     "output_type": "execute_result"
    }
   ],
   "source": [
    "# backward pass\n",
    "loss.backward()\n",
    "w.grad"
   ]
  },
  {
   "cell_type": "markdown",
   "metadata": {},
   "source": [
    "# Gradient Descent with AutoGrad"
   ]
  },
  {
   "cell_type": "code",
   "execution_count": 36,
   "metadata": {},
   "outputs": [
    {
     "name": "stdout",
     "output_type": "stream",
     "text": [
      "Prediction before training: f(5)= 0.000\n",
      "epoch 1: w - 1.200, loss = 30.00000000\n",
      "epoch 2: w - 1.680, loss = 4.79999924\n",
      "epoch 3: w - 1.872, loss = 0.76800019\n",
      "epoch 4: w - 1.949, loss = 0.12288000\n",
      "epoch 5: w - 1.980, loss = 0.01966083\n",
      "epoch 6: w - 1.992, loss = 0.00314570\n",
      "epoch 7: w - 1.997, loss = 0.00050332\n",
      "epoch 8: w - 1.999, loss = 0.00008053\n",
      "epoch 9: w - 1.999, loss = 0.00001288\n",
      "epoch 10: w - 2.000, loss = 0.00000206\n",
      "Prediction after training: f(5)= 9.999\n"
     ]
    }
   ],
   "source": [
    "# f = w * x\n",
    "# f = 2 * x\n",
    "\n",
    "X = np.array([1,2,3,4], dtype=np.float32)\n",
    "Y = np.array([2,4,6,8], dtype=np.float32)\n",
    "\n",
    "w = 0.0\n",
    "\n",
    "# model prediction\n",
    "def forward_pass(x):\n",
    "    return w * x\n",
    "\n",
    "# loss = MSE (Linear regression)\n",
    "def loss (y, y_predicted):\n",
    "    return ((y_predicted - y)**2).mean()\n",
    "\n",
    "\n",
    "#gradient\n",
    "#MSE  = 1/N * (w*x - y)**2\n",
    "# dj/dw = 1/N 2x (w*x -y)\n",
    "def gradient(x, y, y_predicted):\n",
    "    return np.dot(2*x, y_predicted-y).mean()\n",
    "\n",
    "\n",
    "print(f'Prediction before training: f(5)= {forward_pass(5):.3f}')\n",
    "\n",
    "# training\n",
    "learning_rate = 0.01\n",
    "n_iters = 10\n",
    "\n",
    "for epoch in range(n_iters):\n",
    "    #prediction = forward pass\n",
    "    y_pred = forward_pass(X)\n",
    "\n",
    "    # loss\n",
    "    l = loss(Y, y_pred)\n",
    "\n",
    "    # gradients\n",
    "    dw = gradient(X, Y, y_pred)\n",
    "\n",
    "    #update weights\n",
    "    w -= learning_rate * dw\n",
    "\n",
    "    if epoch % 1 == 0:\n",
    "        print(f'epoch {epoch+1}: w - {w:.3f}, loss = {l:.8f}')\n",
    "\n",
    "\n",
    "print(f'Prediction after training: f(5)= {forward_pass(5):.3f}')\n"
   ]
  },
  {
   "cell_type": "code",
   "execution_count": 38,
   "metadata": {},
   "outputs": [
    {
     "name": "stdout",
     "output_type": "stream",
     "text": [
      "Prediction before training: f(5)= 0.000\n",
      "epoch 1: w - 0.300, loss = 30.00000000\n",
      "epoch 11: w - 1.665, loss = 1.16278565\n",
      "epoch 21: w - 1.934, loss = 0.04506890\n",
      "epoch 31: w - 1.987, loss = 0.00174685\n",
      "epoch 41: w - 1.997, loss = 0.00006770\n",
      "epoch 51: w - 1.999, loss = 0.00000262\n",
      "epoch 61: w - 2.000, loss = 0.00000010\n",
      "epoch 71: w - 2.000, loss = 0.00000000\n",
      "epoch 81: w - 2.000, loss = 0.00000000\n",
      "epoch 91: w - 2.000, loss = 0.00000000\n",
      "epoch 101: w - 2.000, loss = 0.00000000\n",
      "epoch 111: w - 2.000, loss = 0.00000000\n",
      "epoch 121: w - 2.000, loss = 0.00000000\n"
     ]
    },
    {
     "name": "stdout",
     "output_type": "stream",
     "text": [
      "epoch 131: w - 2.000, loss = 0.00000000\n",
      "epoch 141: w - 2.000, loss = 0.00000000\n",
      "epoch 151: w - 2.000, loss = 0.00000000\n",
      "epoch 161: w - 2.000, loss = 0.00000000\n",
      "epoch 171: w - 2.000, loss = 0.00000000\n",
      "epoch 181: w - 2.000, loss = 0.00000000\n",
      "epoch 191: w - 2.000, loss = 0.00000000\n",
      "epoch 201: w - 2.000, loss = 0.00000000\n",
      "epoch 211: w - 2.000, loss = 0.00000000\n",
      "epoch 221: w - 2.000, loss = 0.00000000\n",
      "epoch 231: w - 2.000, loss = 0.00000000\n",
      "epoch 241: w - 2.000, loss = 0.00000000\n",
      "epoch 251: w - 2.000, loss = 0.00000000\n",
      "epoch 261: w - 2.000, loss = 0.00000000\n",
      "epoch 271: w - 2.000, loss = 0.00000000\n",
      "epoch 281: w - 2.000, loss = 0.00000000\n",
      "epoch 291: w - 2.000, loss = 0.00000000\n",
      "epoch 301: w - 2.000, loss = 0.00000000\n",
      "epoch 311: w - 2.000, loss = 0.00000000\n",
      "epoch 321: w - 2.000, loss = 0.00000000\n",
      "epoch 331: w - 2.000, loss = 0.00000000\n",
      "epoch 341: w - 2.000, loss = 0.00000000\n",
      "epoch 351: w - 2.000, loss = 0.00000000\n",
      "epoch 361: w - 2.000, loss = 0.00000000\n",
      "epoch 371: w - 2.000, loss = 0.00000000\n",
      "epoch 381: w - 2.000, loss = 0.00000000\n",
      "epoch 391: w - 2.000, loss = 0.00000000\n",
      "epoch 401: w - 2.000, loss = 0.00000000\n",
      "epoch 411: w - 2.000, loss = 0.00000000\n",
      "epoch 421: w - 2.000, loss = 0.00000000\n",
      "epoch 431: w - 2.000, loss = 0.00000000\n",
      "epoch 441: w - 2.000, loss = 0.00000000\n",
      "epoch 451: w - 2.000, loss = 0.00000000\n",
      "epoch 461: w - 2.000, loss = 0.00000000\n",
      "epoch 471: w - 2.000, loss = 0.00000000\n",
      "epoch 481: w - 2.000, loss = 0.00000000\n",
      "epoch 491: w - 2.000, loss = 0.00000000\n",
      "epoch 501: w - 2.000, loss = 0.00000000\n",
      "epoch 511: w - 2.000, loss = 0.00000000\n",
      "epoch 521: w - 2.000, loss = 0.00000000\n",
      "epoch 531: w - 2.000, loss = 0.00000000\n",
      "epoch 541: w - 2.000, loss = 0.00000000\n",
      "epoch 551: w - 2.000, loss = 0.00000000\n",
      "epoch 561: w - 2.000, loss = 0.00000000\n",
      "epoch 571: w - 2.000, loss = 0.00000000\n",
      "epoch 581: w - 2.000, loss = 0.00000000\n",
      "epoch 591: w - 2.000, loss = 0.00000000\n",
      "epoch 601: w - 2.000, loss = 0.00000000\n",
      "epoch 611: w - 2.000, loss = 0.00000000\n",
      "epoch 621: w - 2.000, loss = 0.00000000\n",
      "epoch 631: w - 2.000, loss = 0.00000000\n",
      "epoch 641: w - 2.000, loss = 0.00000000\n",
      "epoch 651: w - 2.000, loss = 0.00000000\n",
      "epoch 661: w - 2.000, loss = 0.00000000\n",
      "epoch 671: w - 2.000, loss = 0.00000000\n",
      "epoch 681: w - 2.000, loss = 0.00000000\n",
      "epoch 691: w - 2.000, loss = 0.00000000\n",
      "epoch 701: w - 2.000, loss = 0.00000000\n",
      "epoch 711: w - 2.000, loss = 0.00000000\n",
      "epoch 721: w - 2.000, loss = 0.00000000\n",
      "epoch 731: w - 2.000, loss = 0.00000000\n",
      "epoch 741: w - 2.000, loss = 0.00000000\n",
      "epoch 751: w - 2.000, loss = 0.00000000\n",
      "epoch 761: w - 2.000, loss = 0.00000000\n",
      "epoch 771: w - 2.000, loss = 0.00000000\n",
      "epoch 781: w - 2.000, loss = 0.00000000\n",
      "epoch 791: w - 2.000, loss = 0.00000000\n",
      "epoch 801: w - 2.000, loss = 0.00000000\n",
      "epoch 811: w - 2.000, loss = 0.00000000\n",
      "epoch 821: w - 2.000, loss = 0.00000000\n",
      "epoch 831: w - 2.000, loss = 0.00000000\n",
      "epoch 841: w - 2.000, loss = 0.00000000\n",
      "epoch 851: w - 2.000, loss = 0.00000000\n",
      "epoch 861: w - 2.000, loss = 0.00000000\n",
      "epoch 871: w - 2.000, loss = 0.00000000\n",
      "epoch 881: w - 2.000, loss = 0.00000000\n",
      "epoch 891: w - 2.000, loss = 0.00000000\n",
      "epoch 901: w - 2.000, loss = 0.00000000\n",
      "epoch 911: w - 2.000, loss = 0.00000000\n",
      "epoch 921: w - 2.000, loss = 0.00000000\n",
      "epoch 931: w - 2.000, loss = 0.00000000\n",
      "epoch 941: w - 2.000, loss = 0.00000000\n",
      "epoch 951: w - 2.000, loss = 0.00000000\n",
      "epoch 961: w - 2.000, loss = 0.00000000\n",
      "epoch 971: w - 2.000, loss = 0.00000000\n",
      "epoch 981: w - 2.000, loss = 0.00000000\n",
      "epoch 991: w - 2.000, loss = 0.00000000\n",
      "Prediction after training: f(5)= 10.000\n"
     ]
    }
   ],
   "source": [
    "# using pytorch\n",
    "\n",
    "# f = w * x\n",
    "# f = 2 * x\n",
    "\n",
    "X = torch.tensor([1,2,3,4], dtype=torch.float32)\n",
    "Y = torch.tensor([2,4,6,8], dtype=torch.float32)\n",
    "\n",
    "w = torch.tensor(0.0, dtype=torch.float32, requires_grad=True)\n",
    "\n",
    "# model prediction\n",
    "def forward_pass(x):\n",
    "    return w * x\n",
    "\n",
    "# loss = MSE (Linear regression)\n",
    "def loss (y, y_predicted):\n",
    "    return ((y_predicted - y)**2).mean()\n",
    "\n",
    "\n",
    "\n",
    "print(f'Prediction before training: f(5)= {forward_pass(5):.3f}')\n",
    "\n",
    "# training\n",
    "learning_rate = 0.01\n",
    "n_iters = 1000\n",
    "\n",
    "for epoch in range(n_iters):\n",
    "    #prediction = forward pass\n",
    "    y_pred = forward_pass(X)\n",
    "\n",
    "    # loss\n",
    "    l = loss(Y, y_pred)\n",
    "\n",
    "    # gradients = backward pass\n",
    "    l.backward() #dl/dw\n",
    "\n",
    "    #update weights\n",
    "    with torch.no_grad():\n",
    "        w -= learning_rate * w.grad\n",
    "\n",
    "    # zero gradients\n",
    "    w.grad.zero_()\n",
    "\n",
    "    if epoch % 10 == 0:\n",
    "        print(f'epoch {epoch+1}: w - {w:.3f}, loss = {l:.8f}')\n",
    "\n",
    "\n",
    "print(f'Prediction after training: f(5)= {forward_pass(5):.3f}')\n"
   ]
  },
  {
   "cell_type": "markdown",
   "metadata": {},
   "source": [
    "# Training Pipeline"
   ]
  },
  {
   "cell_type": "markdown",
   "metadata": {},
   "source": [
    "- Design model (input, output size, forward pass)\n",
    "- Construct loss and optimizer\n",
    "- Training loop:\n",
    "-- forward pass: compute prediction\n",
    "-- backward pass: gradients\n",
    "-- update weights"
   ]
  },
  {
   "cell_type": "code",
   "execution_count": 9,
   "metadata": {},
   "outputs": [
    {
     "name": "stdout",
     "output_type": "stream",
     "text": [
      "4 1\n",
      "Prediction before training: f(5)= -0.416\n",
      "epoch 1: w = 0.186, loss = 31.72766304\n",
      "epoch 21: w = 1.697, loss = 0.12213358\n",
      "epoch 41: w = 1.751, loss = 0.08957390\n",
      "epoch 61: w = 1.766, loss = 0.07943748\n",
      "epoch 81: w = 1.780, loss = 0.07045934\n",
      "epoch 101: w = 1.793, loss = 0.06249586\n",
      "epoch 121: w = 1.805, loss = 0.05543232\n",
      "epoch 141: w = 1.816, loss = 0.04916724\n",
      "epoch 161: w = 1.827, loss = 0.04361024\n",
      "epoch 181: w = 1.837, loss = 0.03868131\n",
      "epoch 201: w = 1.846, loss = 0.03430945\n",
      "epoch 221: w = 1.855, loss = 0.03043175\n",
      "epoch 241: w = 1.864, loss = 0.02699225\n",
      "epoch 261: w = 1.872, loss = 0.02394151\n",
      "epoch 281: w = 1.879, loss = 0.02123556\n",
      "epoch 301: w = 1.886, loss = 0.01883546\n",
      "epoch 321: w = 1.893, loss = 0.01670661\n",
      "epoch 341: w = 1.899, loss = 0.01481842\n",
      "epoch 361: w = 1.905, loss = 0.01314358\n",
      "epoch 381: w = 1.910, loss = 0.01165805\n",
      "epoch 401: w = 1.916, loss = 0.01034042\n",
      "epoch 421: w = 1.921, loss = 0.00917174\n",
      "epoch 441: w = 1.925, loss = 0.00813513\n",
      "epoch 461: w = 1.930, loss = 0.00721566\n",
      "epoch 481: w = 1.934, loss = 0.00640015\n",
      "epoch 501: w = 1.937, loss = 0.00567677\n",
      "epoch 521: w = 1.941, loss = 0.00503518\n",
      "epoch 541: w = 1.945, loss = 0.00446609\n",
      "epoch 561: w = 1.948, loss = 0.00396132\n",
      "epoch 581: w = 1.951, loss = 0.00351360\n",
      "epoch 601: w = 1.954, loss = 0.00311647\n",
      "epoch 621: w = 1.956, loss = 0.00276425\n",
      "epoch 641: w = 1.959, loss = 0.00245183\n",
      "epoch 661: w = 1.961, loss = 0.00217473\n",
      "epoch 681: w = 1.964, loss = 0.00192892\n",
      "epoch 701: w = 1.966, loss = 0.00171091\n",
      "epoch 721: w = 1.968, loss = 0.00151754\n",
      "epoch 741: w = 1.970, loss = 0.00134602\n",
      "epoch 761: w = 1.971, loss = 0.00119389\n",
      "epoch 781: w = 1.973, loss = 0.00105896\n",
      "epoch 801: w = 1.975, loss = 0.00093928\n",
      "epoch 821: w = 1.976, loss = 0.00083311\n",
      "epoch 841: w = 1.977, loss = 0.00073895\n",
      "epoch 861: w = 1.979, loss = 0.00065544\n",
      "epoch 881: w = 1.980, loss = 0.00058136\n",
      "epoch 901: w = 1.981, loss = 0.00051565\n",
      "epoch 921: w = 1.982, loss = 0.00045737\n",
      "epoch 941: w = 1.983, loss = 0.00040568\n",
      "epoch 961: w = 1.984, loss = 0.00035983\n",
      "epoch 981: w = 1.985, loss = 0.00031915\n",
      "Prediction after training: f(5)= 9.971\n"
     ]
    }
   ],
   "source": [
    "# using pytorch\n",
    "\n",
    "# f = w * x\n",
    "# f = 2 * x\n",
    "import torch\n",
    "import torch.nn as nn\n",
    "\n",
    "X = torch.tensor([[1],[2],[3],[4]], dtype=torch.float32)\n",
    "Y = torch.tensor([[2],[4],[6],[8]], dtype=torch.float32)\n",
    "\n",
    "n_samples, n_features = X.shape\n",
    "\n",
    "print(n_samples, n_features)\n",
    "\n",
    "input_size = n_features\n",
    "output_size = n_features\n",
    "\n",
    "#model = nn.Linear(input_size, output_size)\n",
    "\n",
    "class LinearRegression(nn.Module):\n",
    "\n",
    "    def __init__(self, input_dim, output_dim):\n",
    "        super(LinearRegression, self).__init__()\n",
    "        #define layers\n",
    "        self.lin = nn.Linear(input_dim, output_dim)\n",
    "\n",
    "    def forward(self, x):\n",
    "        return self.lin(x)\n",
    "    \n",
    "model = LinearRegression(input_size, output_size)\n",
    "\n",
    "X_test = torch.tensor([5], dtype=torch.float32)\n",
    "\n",
    "\n",
    "print(f'Prediction before training: f(5)= {model(X_test).item():.3f}')\n",
    "\n",
    "# training\n",
    "learning_rate = 0.01\n",
    "n_iters = 1000\n",
    "loss = nn.MSELoss()\n",
    "optimizer = torch.optim.SGD(model.parameters(), lr = learning_rate)\n",
    "\n",
    "for epoch in range(n_iters):\n",
    "    #prediction = forward pass\n",
    "    y_pred = model(X)\n",
    "\n",
    "    # loss\n",
    "    l = loss(Y, y_pred)\n",
    "\n",
    "    # gradients = backward pass\n",
    "    l.backward() #dl/dw\n",
    "\n",
    "    #update weights\n",
    "    optimizer.step()\n",
    "\n",
    "    # zero gradients\n",
    "    optimizer.zero_grad()\n",
    "\n",
    "    if epoch % 20 == 0:\n",
    "        [w, b] = model.parameters()\n",
    "        print(f'epoch {epoch+1}: w = {w[0][0].item():.3f}, loss = {l:.8f}')\n",
    "\n",
    "\n",
    "print(f'Prediction after training: f(5)= {model(X_test).item():.3f}')\n"
   ]
  },
  {
   "cell_type": "markdown",
   "metadata": {},
   "source": [
    "# Linear Regression"
   ]
  },
  {
   "cell_type": "code",
   "execution_count": 12,
   "metadata": {},
   "outputs": [],
   "source": [
    "from sklearn import datasets\n",
    "import matplotlib.pyplot as plt\n",
    "import numpy as np"
   ]
  },
  {
   "cell_type": "markdown",
   "metadata": {},
   "source": [
    "Steps:\n",
    "\n",
    "- prepare data\n",
    "- model\n",
    "- loss and optimizer\n",
    "- training loop"
   ]
  },
  {
   "cell_type": "code",
   "execution_count": 13,
   "metadata": {},
   "outputs": [
    {
     "name": "stdout",
     "output_type": "stream",
     "text": [
      "epoch: 10, loss = 1628.7839\n",
      "epoch: 20, loss = 1240.9712\n",
      "epoch: 30, loss = 971.7648\n",
      "epoch: 40, loss = 784.6990\n",
      "epoch: 50, loss = 654.5821\n",
      "epoch: 60, loss = 563.9911\n",
      "epoch: 70, loss = 500.8616\n",
      "epoch: 80, loss = 456.8307\n",
      "epoch: 90, loss = 426.0947\n",
      "epoch: 100, loss = 404.6224\n",
      "epoch: 110, loss = 389.6102\n",
      "epoch: 120, loss = 379.1071\n",
      "epoch: 130, loss = 371.7537\n",
      "epoch: 140, loss = 366.6020\n",
      "epoch: 150, loss = 362.9906\n",
      "epoch: 160, loss = 360.4575\n",
      "epoch: 170, loss = 358.6799\n",
      "epoch: 180, loss = 357.4316\n",
      "epoch: 190, loss = 356.5548\n",
      "epoch: 200, loss = 355.9384\n"
     ]
    },
    {
     "data": {
      "image/png": "[encoded data removed]",
      "text/plain": [
       "<Figure size 640x480 with 1 Axes>"
      ]
     },
     "metadata": {},
     "output_type": "display_data"
    }
   ],
   "source": [
    "X_numpy, y_numpy = datasets.make_regression(n_samples=300, n_features=1, noise=20, random_state=1)\n",
    "\n",
    "X = torch.from_numpy(X_numpy.astype(np.float32))\n",
    "y = torch.from_numpy(y_numpy.astype(np.float32))\n",
    "\n",
    "y = y.view(y.shape[0], 1) #view is a pytorch method that does resampling\n",
    "\n",
    "n_samples, n_features = X.shape\n",
    "\n",
    "# model\n",
    "input_size = n_features\n",
    "output_size = 1\n",
    "\n",
    "model = nn.Linear(input_size, output_size)\n",
    "\n",
    "# loss and optimizer\n",
    "learning_rate = 0.01\n",
    "criterion = nn.MSELoss()\n",
    "optimizer = torch.optim.SGD(model.parameters(), lr=learning_rate)\n",
    "\n",
    "# training loop\n",
    "num_epochs = 200\n",
    "for epoch in range(num_epochs):\n",
    "\n",
    "    # forward pass\n",
    "    y_predicted = model(X)\n",
    "    loss = criterion(y_predicted, y)\n",
    "\n",
    "    # backward pass\n",
    "    loss.backward()\n",
    "\n",
    "    #update\n",
    "    optimizer.step()\n",
    "\n",
    "    optimizer.zero_grad()\n",
    "\n",
    "    if  (epoch + 1) % 10 == 0:\n",
    "        print(f'epoch: {epoch+1}, loss = {loss.item():.4f}')\n",
    "\n",
    "\n",
    "# plotting it\n",
    "predicted = model(X).detach().numpy()\n",
    "plt.plot(X_numpy, y_numpy, 'ro')\n",
    "plt.plot(X_numpy, predicted, 'b')\n",
    "\n",
    "plt.show()"
   ]
  },
  {
   "cell_type": "markdown",
   "metadata": {},
   "source": [
    "# Logistic Regression"
   ]
  },
  {
   "cell_type": "code",
   "execution_count": 14,
   "metadata": {},
   "outputs": [],
   "source": [
    "from sklearn.preprocessing import StandardScaler\n",
    "from sklearn.model_selection import train_test_split"
   ]
  },
  {
   "cell_type": "code",
   "execution_count": 20,
   "metadata": {},
   "outputs": [
    {
     "name": "stdout",
     "output_type": "stream",
     "text": [
      "epoch: 10, loss= 0.4578\n",
      "epoch: 20, loss= 0.4035\n",
      "epoch: 30, loss= 0.3658\n",
      "epoch: 40, loss= 0.3378\n",
      "epoch: 50, loss= 0.3160\n",
      "epoch: 60, loss= 0.2984\n",
      "epoch: 70, loss= 0.2836\n",
      "epoch: 80, loss= 0.2711\n",
      "epoch: 90, loss= 0.2603\n",
      "epoch: 100, loss= 0.2507\n",
      "epoch: 110, loss= 0.2423\n",
      "epoch: 120, loss= 0.2347\n",
      "epoch: 130, loss= 0.2279\n",
      "epoch: 140, loss= 0.2216\n",
      "epoch: 150, loss= 0.2159\n",
      "epoch: 160, loss= 0.2107\n",
      "epoch: 170, loss= 0.2058\n",
      "epoch: 180, loss= 0.2013\n",
      "epoch: 190, loss= 0.1972\n",
      "epoch: 200, loss= 0.1933\n",
      "accuracy = 0.9825\n"
     ]
    }
   ],
   "source": [
    "import numpy as np\n",
    "import torch\n",
    "import torch.nn as nn\n",
    "import torch.optim as optim\n",
    "from sklearn import datasets\n",
    "from sklearn.model_selection import train_test_split\n",
    "from sklearn.preprocessing import StandardScaler\n",
    "\n",
    "# data\n",
    "breast = datasets.load_breast_cancer()\n",
    "X, y = breast.data, breast.target\n",
    "\n",
    "n_samples, n_features = X.shape\n",
    "\n",
    "X_train, X_test, y_train, y_test = train_test_split(X, y, test_size=0.2, random_state=42)\n",
    "\n",
    "# scale\n",
    "scale = StandardScaler()\n",
    "X_train = scale.fit_transform(X_train)\n",
    "X_test = scale.transform(X_test)\n",
    "\n",
    "X_train = torch.from_numpy(X_train.astype(np.float32))\n",
    "X_test = torch.from_numpy(X_test.astype(np.float32))\n",
    "y_train = torch.from_numpy(y_train.astype(np.float32))\n",
    "y_test = torch.from_numpy(y_test.astype(np.float32))\n",
    "\n",
    "y_train = y_train.view(y_train.shape[0], 1)\n",
    "y_test = y_test.view(y_test.shape[0], 1)\n",
    "\n",
    "# model\n",
    "class LogisticRegression(nn.Module):\n",
    "    def __init__(self, n_input_features):\n",
    "        super(LogisticRegression, self).__init__()\n",
    "        self.linear = nn.Linear(n_input_features, 1)\n",
    "\n",
    "    def forward(self, x):\n",
    "        y_predicted = torch.sigmoid(self.linear(x))\n",
    "        return y_predicted\n",
    "\n",
    "model = LogisticRegression(n_features)\n",
    "\n",
    "# loss and optimizer\n",
    "learning_rate = 0.01\n",
    "criterion = nn.BCELoss()\n",
    "optimizer = optim.SGD(model.parameters(), lr=learning_rate)\n",
    "\n",
    "# training loop\n",
    "num_epochs = 200\n",
    "for epoch in range(num_epochs):\n",
    "    # forward pass\n",
    "    y_predicted = model(X_train)\n",
    "    loss = criterion(y_predicted, y_train)\n",
    "\n",
    "    # backward pass\n",
    "    loss.backward()\n",
    "\n",
    "    # update weights\n",
    "    optimizer.step()\n",
    "\n",
    "    # empty gradients\n",
    "    optimizer.zero_grad()\n",
    "\n",
    "    if (epoch + 1) % 10 == 0:\n",
    "        print(f'epoch: {epoch + 1}, loss= {loss.item():.4f}')\n",
    "\n",
    "with torch.no_grad():\n",
    "    y_predicted = model(X_test)\n",
    "    y_predicted_class = y_predicted.round()\n",
    "    accuracy = y_predicted_class.eq(y_test).sum() / float(y_test.shape[0])\n",
    "    print(f'accuracy = {accuracy:.4f}')\n"
   ]
  },
  {
   "cell_type": "code",
   "execution_count": null,
   "metadata": {},
   "outputs": [],
   "source": []
  }
 ],
 "metadata": {
  "kernelspec": {
   "display_name": "base",
   "language": "python",
   "name": "python3"
  },
  "language_info": {
   "codemirror_mode": {
    "name": "ipython",
    "version": 3
   },
   "file_extension": ".py",
   "mimetype": "text/x-python",
   "name": "python",
   "nbconvert_exporter": "python",
   "pygments_lexer": "ipython3",
   "version": "3.11.7"
  }
 },
 "nbformat": 4,
 "nbformat_minor": 2
}
